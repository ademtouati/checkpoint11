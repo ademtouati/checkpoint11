{
 "cells": [
  {
   "cell_type": "code",
   "execution_count": 24,
   "id": "af621d69",
   "metadata": {},
   "outputs": [
    {
     "data": {
      "text/plain": [
       "'false'"
      ]
     },
     "execution_count": 24,
     "metadata": {},
     "output_type": "execute_result"
    }
   ],
   "source": [
    "def Binary_Search(list,number):\n",
    "    l=0\n",
    "    h=len(list)-1\n",
    "    while l <= h:\n",
    "        mid=(h+l)//2\n",
    "        if list[mid]< number:\n",
    "            l=mid+1\n",
    "        elif list[mid] > number:\n",
    "            h = mid-1\n",
    "        else:\n",
    "            return mid\n",
    "    return \"false\"\n",
    "list=[1,2,3,5,8]\n",
    "number=10\n",
    "Binary_Search(list,number)"
   ]
  },
  {
   "cell_type": "code",
   "execution_count": null,
   "id": "a14891ef",
   "metadata": {},
   "outputs": [],
   "source": [
    "def power(a,b):\n",
    "    if b==0:\n",
    "        return 1\n",
    "    else:\n",
    "        return a*power(a,b-1)\n",
    "print(power(3,4))"
   ]
  },
  {
   "cell_type": "code",
   "execution_count": 17,
   "id": "780065ec",
   "metadata": {},
   "outputs": [
    {
     "name": "stdout",
     "output_type": "stream",
     "text": [
      "[13, 22, 29, 37, 46, 49, 52, 56, 71]\n"
     ]
    }
   ],
   "source": [
    "def bubbleSort(list):\n",
    "    for newlist in range(len(list)-1,0,-1):\n",
    "        for i in range(newlist):\n",
    "            if list[i]>list[i+1]:\n",
    "                temp = list[i]\n",
    "                list[i] = list[i+1]\n",
    "                list[i+1] = temp\n",
    "    return list\n",
    "\n",
    "print(bubbleSort([29,13,22,37,52,49,46,71,56]))"
   ]
  },
  {
   "cell_type": "code",
   "execution_count": 1,
   "id": "9fee289b",
   "metadata": {},
   "outputs": [
    {
     "name": "stdout",
     "output_type": "stream",
     "text": [
      "[13, 22, 29, 37, 46, 49, 52, 56, 71]\n"
     ]
    }
   ],
   "source": [
    "def mergeSort(list):\n",
    "    if len(list)>1:\n",
    "        mid = len(list)//2\n",
    "        left = list[:mid]\n",
    "        right = list[mid:]\n",
    "        mergeSort(left)\n",
    "        mergeSort(right)\n",
    "        x=0\n",
    "        y=0\n",
    "        z=0\n",
    "        \n",
    "        while x < len(left) and y < len(right):\n",
    "            if left[x] < right[y]:\n",
    "        \n",
    "              list[z] = left[x]\n",
    "              x += 1\n",
    "            else:\n",
    "                list[z] = right[y]\n",
    "                y += 1\n",
    "            z += 1\n",
    "        while x < len(left):\n",
    "            list[z] = left[x]\n",
    "            x += 1\n",
    "            z += 1\n",
    "        while y < len(right):\n",
    "            list[z]=right[y]\n",
    "            y += 1\n",
    "            z += 1\n",
    "list = [29,13,22,37,52,49,46,71,56]\n",
    "mergeSort(list)\n",
    "print(list)"
   ]
  },
  {
   "cell_type": "code",
   "execution_count": 15,
   "id": "4c5dba26",
   "metadata": {},
   "outputs": [
    {
     "name": "stdout",
     "output_type": "stream",
     "text": [
      "[1, 2, 3, 4, 5, 7, 8, 9, 66]\n"
     ]
    }
   ],
   "source": [
    "def Quick_Sort(list):\n",
    "    lenght=len(list)\n",
    "    if lenght <= 1:\n",
    "        return list\n",
    "    else:\n",
    "        point=list.pop()\n",
    "    values_greater=[]\n",
    "    values_lower=[]\n",
    "    \n",
    "    for items in list:\n",
    "        if items > point:\n",
    "            values_greater.append(items)\n",
    "        else:\n",
    "            values_lower.append(items)\n",
    "    return Quick_Sort(values_lower) +[point] + Quick_Sort(values_greater)\n",
    "                \n",
    "print(Quick_Sort([9,8,7,66,5,4,3,2,1]))\n",
    "                    \n",
    "            "
   ]
  }
 ],
 "metadata": {
  "kernelspec": {
   "display_name": "Python 3 (ipykernel)",
   "language": "python",
   "name": "python3"
  },
  "language_info": {
   "codemirror_mode": {
    "name": "ipython",
    "version": 3
   },
   "file_extension": ".py",
   "mimetype": "text/x-python",
   "name": "python",
   "nbconvert_exporter": "python",
   "pygments_lexer": "ipython3",
   "version": "3.9.12"
  }
 },
 "nbformat": 4,
 "nbformat_minor": 5
}
